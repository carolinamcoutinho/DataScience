{
 "cells": [
  {
   "cell_type": "markdown",
   "id": "7daefa8d",
   "metadata": {},
   "source": [
    "# Modelo de identificação de fraudes\n",
    "- Esse é um primeiro modelo para identificar compras fraudulentas no cartão de crédito\n",
    "- Para esse caso vou definir que o negócio pede:\n",
    "    - Em compras até um valor específico o modelo deve identificar o máximo de fraudes corretamente, equilibrando com um valor menor de não fraudes classficadas como fraude\n",
    "    - Em compras mais altas a partir de um valor específico muito alto, o modelo deve identificar o máximo de fraudes corretamene, mesmo que isso implique que o número de casos que não são fraudes identificados como fraude seja maior"
   ]
  },
  {
   "cell_type": "code",
   "execution_count": 186,
   "id": "83b4c358",
   "metadata": {},
   "outputs": [],
   "source": [
    "#Importando bibliotecas\n",
    "import pandas as pd\n",
    "from sklearn.model_selection import train_test_split\n",
    "from imblearn.under_sampling import RandomUnderSampler\n",
    "from imblearn.under_sampling import ClusterCentroids\n",
    "from imblearn.under_sampling import NearMiss\n",
    "from sklearn.metrics import confusion_matrix\n",
    "from sklearn.metrics import precision_score\n",
    "from sklearn.metrics import recall_score\n",
    "from sklearn.linear_model import LogisticRegression\n",
    "from sklearn.neighbors import KNeighborsClassifier\n",
    "from sklearn import tree\n",
    "from sklearn.model_selection import GridSearchCV\n",
    "#Tirand os warnings\n",
    "import warnings\n",
    "warnings.filterwarnings('ignore')"
   ]
  },
  {
   "cell_type": "code",
   "execution_count": 187,
   "id": "9065b434",
   "metadata": {},
   "outputs": [],
   "source": [
    "#Importando base\n",
    "base = pd.read_csv(r\"C:\\Users\\cacam\\Ciência de Dados\\Identificação de fraude 2\\creditcard.csv\")"
   ]
  },
  {
   "cell_type": "code",
   "execution_count": 188,
   "id": "2bc2704b",
   "metadata": {},
   "outputs": [
    {
     "data": {
      "text/html": [
       "<div>\n",
       "<style scoped>\n",
       "    .dataframe tbody tr th:only-of-type {\n",
       "        vertical-align: middle;\n",
       "    }\n",
       "\n",
       "    .dataframe tbody tr th {\n",
       "        vertical-align: top;\n",
       "    }\n",
       "\n",
       "    .dataframe thead th {\n",
       "        text-align: right;\n",
       "    }\n",
       "</style>\n",
       "<table border=\"1\" class=\"dataframe\">\n",
       "  <thead>\n",
       "    <tr style=\"text-align: right;\">\n",
       "      <th></th>\n",
       "      <th>Time</th>\n",
       "      <th>V1</th>\n",
       "      <th>V2</th>\n",
       "      <th>V3</th>\n",
       "      <th>V4</th>\n",
       "      <th>V5</th>\n",
       "      <th>V6</th>\n",
       "      <th>V7</th>\n",
       "      <th>V8</th>\n",
       "      <th>V9</th>\n",
       "      <th>...</th>\n",
       "      <th>V21</th>\n",
       "      <th>V22</th>\n",
       "      <th>V23</th>\n",
       "      <th>V24</th>\n",
       "      <th>V25</th>\n",
       "      <th>V26</th>\n",
       "      <th>V27</th>\n",
       "      <th>V28</th>\n",
       "      <th>Amount</th>\n",
       "      <th>Class</th>\n",
       "    </tr>\n",
       "  </thead>\n",
       "  <tbody>\n",
       "    <tr>\n",
       "      <th>0</th>\n",
       "      <td>0.0</td>\n",
       "      <td>-1.359807</td>\n",
       "      <td>-0.072781</td>\n",
       "      <td>2.536347</td>\n",
       "      <td>1.378155</td>\n",
       "      <td>-0.338321</td>\n",
       "      <td>0.462388</td>\n",
       "      <td>0.239599</td>\n",
       "      <td>0.098698</td>\n",
       "      <td>0.363787</td>\n",
       "      <td>...</td>\n",
       "      <td>-0.018307</td>\n",
       "      <td>0.277838</td>\n",
       "      <td>-0.110474</td>\n",
       "      <td>0.066928</td>\n",
       "      <td>0.128539</td>\n",
       "      <td>-0.189115</td>\n",
       "      <td>0.133558</td>\n",
       "      <td>-0.021053</td>\n",
       "      <td>149.62</td>\n",
       "      <td>0</td>\n",
       "    </tr>\n",
       "    <tr>\n",
       "      <th>1</th>\n",
       "      <td>0.0</td>\n",
       "      <td>1.191857</td>\n",
       "      <td>0.266151</td>\n",
       "      <td>0.166480</td>\n",
       "      <td>0.448154</td>\n",
       "      <td>0.060018</td>\n",
       "      <td>-0.082361</td>\n",
       "      <td>-0.078803</td>\n",
       "      <td>0.085102</td>\n",
       "      <td>-0.255425</td>\n",
       "      <td>...</td>\n",
       "      <td>-0.225775</td>\n",
       "      <td>-0.638672</td>\n",
       "      <td>0.101288</td>\n",
       "      <td>-0.339846</td>\n",
       "      <td>0.167170</td>\n",
       "      <td>0.125895</td>\n",
       "      <td>-0.008983</td>\n",
       "      <td>0.014724</td>\n",
       "      <td>2.69</td>\n",
       "      <td>0</td>\n",
       "    </tr>\n",
       "    <tr>\n",
       "      <th>2</th>\n",
       "      <td>1.0</td>\n",
       "      <td>-1.358354</td>\n",
       "      <td>-1.340163</td>\n",
       "      <td>1.773209</td>\n",
       "      <td>0.379780</td>\n",
       "      <td>-0.503198</td>\n",
       "      <td>1.800499</td>\n",
       "      <td>0.791461</td>\n",
       "      <td>0.247676</td>\n",
       "      <td>-1.514654</td>\n",
       "      <td>...</td>\n",
       "      <td>0.247998</td>\n",
       "      <td>0.771679</td>\n",
       "      <td>0.909412</td>\n",
       "      <td>-0.689281</td>\n",
       "      <td>-0.327642</td>\n",
       "      <td>-0.139097</td>\n",
       "      <td>-0.055353</td>\n",
       "      <td>-0.059752</td>\n",
       "      <td>378.66</td>\n",
       "      <td>0</td>\n",
       "    </tr>\n",
       "  </tbody>\n",
       "</table>\n",
       "<p>3 rows × 31 columns</p>\n",
       "</div>"
      ],
      "text/plain": [
       "   Time        V1        V2        V3        V4        V5        V6        V7  \\\n",
       "0   0.0 -1.359807 -0.072781  2.536347  1.378155 -0.338321  0.462388  0.239599   \n",
       "1   0.0  1.191857  0.266151  0.166480  0.448154  0.060018 -0.082361 -0.078803   \n",
       "2   1.0 -1.358354 -1.340163  1.773209  0.379780 -0.503198  1.800499  0.791461   \n",
       "\n",
       "         V8        V9  ...       V21       V22       V23       V24       V25  \\\n",
       "0  0.098698  0.363787  ... -0.018307  0.277838 -0.110474  0.066928  0.128539   \n",
       "1  0.085102 -0.255425  ... -0.225775 -0.638672  0.101288 -0.339846  0.167170   \n",
       "2  0.247676 -1.514654  ...  0.247998  0.771679  0.909412 -0.689281 -0.327642   \n",
       "\n",
       "        V26       V27       V28  Amount  Class  \n",
       "0 -0.189115  0.133558 -0.021053  149.62      0  \n",
       "1  0.125895 -0.008983  0.014724    2.69      0  \n",
       "2 -0.139097 -0.055353 -0.059752  378.66      0  \n",
       "\n",
       "[3 rows x 31 columns]"
      ]
     },
     "execution_count": 188,
     "metadata": {},
     "output_type": "execute_result"
    }
   ],
   "source": [
    "#Visualizando base\n",
    "base.head(3)"
   ]
  },
  {
   "cell_type": "code",
   "execution_count": 189,
   "id": "523d77f4",
   "metadata": {},
   "outputs": [
    {
     "name": "stdout",
     "output_type": "stream",
     "text": [
      "<class 'pandas.core.frame.DataFrame'>\n",
      "RangeIndex: 284807 entries, 0 to 284806\n",
      "Data columns (total 31 columns):\n",
      " #   Column  Non-Null Count   Dtype  \n",
      "---  ------  --------------   -----  \n",
      " 0   Time    284807 non-null  float64\n",
      " 1   V1      284807 non-null  float64\n",
      " 2   V2      284807 non-null  float64\n",
      " 3   V3      284807 non-null  float64\n",
      " 4   V4      284807 non-null  float64\n",
      " 5   V5      284807 non-null  float64\n",
      " 6   V6      284807 non-null  float64\n",
      " 7   V7      284807 non-null  float64\n",
      " 8   V8      284807 non-null  float64\n",
      " 9   V9      284807 non-null  float64\n",
      " 10  V10     284807 non-null  float64\n",
      " 11  V11     284807 non-null  float64\n",
      " 12  V12     284807 non-null  float64\n",
      " 13  V13     284807 non-null  float64\n",
      " 14  V14     284807 non-null  float64\n",
      " 15  V15     284807 non-null  float64\n",
      " 16  V16     284807 non-null  float64\n",
      " 17  V17     284807 non-null  float64\n",
      " 18  V18     284807 non-null  float64\n",
      " 19  V19     284807 non-null  float64\n",
      " 20  V20     284807 non-null  float64\n",
      " 21  V21     284807 non-null  float64\n",
      " 22  V22     284807 non-null  float64\n",
      " 23  V23     284807 non-null  float64\n",
      " 24  V24     284807 non-null  float64\n",
      " 25  V25     284807 non-null  float64\n",
      " 26  V26     284807 non-null  float64\n",
      " 27  V27     284807 non-null  float64\n",
      " 28  V28     284807 non-null  float64\n",
      " 29  Amount  284807 non-null  float64\n",
      " 30  Class   284807 non-null  int64  \n",
      "dtypes: float64(30), int64(1)\n",
      "memory usage: 67.4 MB\n"
     ]
    }
   ],
   "source": [
    "#Informações da base\n",
    "base.info()"
   ]
  },
  {
   "cell_type": "markdown",
   "id": "ca71319b",
   "metadata": {},
   "source": [
    "Não existe nenhum valor nulo"
   ]
  },
  {
   "cell_type": "code",
   "execution_count": 190,
   "id": "0feb819f",
   "metadata": {},
   "outputs": [
    {
     "data": {
      "text/html": [
       "<div>\n",
       "<style scoped>\n",
       "    .dataframe tbody tr th:only-of-type {\n",
       "        vertical-align: middle;\n",
       "    }\n",
       "\n",
       "    .dataframe tbody tr th {\n",
       "        vertical-align: top;\n",
       "    }\n",
       "\n",
       "    .dataframe thead th {\n",
       "        text-align: right;\n",
       "    }\n",
       "</style>\n",
       "<table border=\"1\" class=\"dataframe\">\n",
       "  <thead>\n",
       "    <tr style=\"text-align: right;\">\n",
       "      <th></th>\n",
       "      <th>Time</th>\n",
       "      <th>V1</th>\n",
       "      <th>V2</th>\n",
       "      <th>V3</th>\n",
       "      <th>V4</th>\n",
       "      <th>V5</th>\n",
       "      <th>V6</th>\n",
       "      <th>V7</th>\n",
       "      <th>V8</th>\n",
       "      <th>V9</th>\n",
       "      <th>...</th>\n",
       "      <th>V21</th>\n",
       "      <th>V22</th>\n",
       "      <th>V23</th>\n",
       "      <th>V24</th>\n",
       "      <th>V25</th>\n",
       "      <th>V26</th>\n",
       "      <th>V27</th>\n",
       "      <th>V28</th>\n",
       "      <th>Amount</th>\n",
       "      <th>Class</th>\n",
       "    </tr>\n",
       "  </thead>\n",
       "  <tbody>\n",
       "    <tr>\n",
       "      <th>count</th>\n",
       "      <td>284807.000000</td>\n",
       "      <td>2.848070e+05</td>\n",
       "      <td>2.848070e+05</td>\n",
       "      <td>2.848070e+05</td>\n",
       "      <td>2.848070e+05</td>\n",
       "      <td>2.848070e+05</td>\n",
       "      <td>2.848070e+05</td>\n",
       "      <td>2.848070e+05</td>\n",
       "      <td>2.848070e+05</td>\n",
       "      <td>2.848070e+05</td>\n",
       "      <td>...</td>\n",
       "      <td>2.848070e+05</td>\n",
       "      <td>2.848070e+05</td>\n",
       "      <td>2.848070e+05</td>\n",
       "      <td>2.848070e+05</td>\n",
       "      <td>2.848070e+05</td>\n",
       "      <td>2.848070e+05</td>\n",
       "      <td>2.848070e+05</td>\n",
       "      <td>2.848070e+05</td>\n",
       "      <td>284807.000000</td>\n",
       "      <td>284807.000000</td>\n",
       "    </tr>\n",
       "    <tr>\n",
       "      <th>mean</th>\n",
       "      <td>94813.859575</td>\n",
       "      <td>1.168375e-15</td>\n",
       "      <td>3.416908e-16</td>\n",
       "      <td>-1.379537e-15</td>\n",
       "      <td>2.074095e-15</td>\n",
       "      <td>9.604066e-16</td>\n",
       "      <td>1.487313e-15</td>\n",
       "      <td>-5.556467e-16</td>\n",
       "      <td>1.213481e-16</td>\n",
       "      <td>-2.406331e-15</td>\n",
       "      <td>...</td>\n",
       "      <td>1.654067e-16</td>\n",
       "      <td>-3.568593e-16</td>\n",
       "      <td>2.578648e-16</td>\n",
       "      <td>4.473266e-15</td>\n",
       "      <td>5.340915e-16</td>\n",
       "      <td>1.683437e-15</td>\n",
       "      <td>-3.660091e-16</td>\n",
       "      <td>-1.227390e-16</td>\n",
       "      <td>88.349619</td>\n",
       "      <td>0.001727</td>\n",
       "    </tr>\n",
       "    <tr>\n",
       "      <th>std</th>\n",
       "      <td>47488.145955</td>\n",
       "      <td>1.958696e+00</td>\n",
       "      <td>1.651309e+00</td>\n",
       "      <td>1.516255e+00</td>\n",
       "      <td>1.415869e+00</td>\n",
       "      <td>1.380247e+00</td>\n",
       "      <td>1.332271e+00</td>\n",
       "      <td>1.237094e+00</td>\n",
       "      <td>1.194353e+00</td>\n",
       "      <td>1.098632e+00</td>\n",
       "      <td>...</td>\n",
       "      <td>7.345240e-01</td>\n",
       "      <td>7.257016e-01</td>\n",
       "      <td>6.244603e-01</td>\n",
       "      <td>6.056471e-01</td>\n",
       "      <td>5.212781e-01</td>\n",
       "      <td>4.822270e-01</td>\n",
       "      <td>4.036325e-01</td>\n",
       "      <td>3.300833e-01</td>\n",
       "      <td>250.120109</td>\n",
       "      <td>0.041527</td>\n",
       "    </tr>\n",
       "    <tr>\n",
       "      <th>min</th>\n",
       "      <td>0.000000</td>\n",
       "      <td>-5.640751e+01</td>\n",
       "      <td>-7.271573e+01</td>\n",
       "      <td>-4.832559e+01</td>\n",
       "      <td>-5.683171e+00</td>\n",
       "      <td>-1.137433e+02</td>\n",
       "      <td>-2.616051e+01</td>\n",
       "      <td>-4.355724e+01</td>\n",
       "      <td>-7.321672e+01</td>\n",
       "      <td>-1.343407e+01</td>\n",
       "      <td>...</td>\n",
       "      <td>-3.483038e+01</td>\n",
       "      <td>-1.093314e+01</td>\n",
       "      <td>-4.480774e+01</td>\n",
       "      <td>-2.836627e+00</td>\n",
       "      <td>-1.029540e+01</td>\n",
       "      <td>-2.604551e+00</td>\n",
       "      <td>-2.256568e+01</td>\n",
       "      <td>-1.543008e+01</td>\n",
       "      <td>0.000000</td>\n",
       "      <td>0.000000</td>\n",
       "    </tr>\n",
       "    <tr>\n",
       "      <th>25%</th>\n",
       "      <td>54201.500000</td>\n",
       "      <td>-9.203734e-01</td>\n",
       "      <td>-5.985499e-01</td>\n",
       "      <td>-8.903648e-01</td>\n",
       "      <td>-8.486401e-01</td>\n",
       "      <td>-6.915971e-01</td>\n",
       "      <td>-7.682956e-01</td>\n",
       "      <td>-5.540759e-01</td>\n",
       "      <td>-2.086297e-01</td>\n",
       "      <td>-6.430976e-01</td>\n",
       "      <td>...</td>\n",
       "      <td>-2.283949e-01</td>\n",
       "      <td>-5.423504e-01</td>\n",
       "      <td>-1.618463e-01</td>\n",
       "      <td>-3.545861e-01</td>\n",
       "      <td>-3.171451e-01</td>\n",
       "      <td>-3.269839e-01</td>\n",
       "      <td>-7.083953e-02</td>\n",
       "      <td>-5.295979e-02</td>\n",
       "      <td>5.600000</td>\n",
       "      <td>0.000000</td>\n",
       "    </tr>\n",
       "    <tr>\n",
       "      <th>50%</th>\n",
       "      <td>84692.000000</td>\n",
       "      <td>1.810880e-02</td>\n",
       "      <td>6.548556e-02</td>\n",
       "      <td>1.798463e-01</td>\n",
       "      <td>-1.984653e-02</td>\n",
       "      <td>-5.433583e-02</td>\n",
       "      <td>-2.741871e-01</td>\n",
       "      <td>4.010308e-02</td>\n",
       "      <td>2.235804e-02</td>\n",
       "      <td>-5.142873e-02</td>\n",
       "      <td>...</td>\n",
       "      <td>-2.945017e-02</td>\n",
       "      <td>6.781943e-03</td>\n",
       "      <td>-1.119293e-02</td>\n",
       "      <td>4.097606e-02</td>\n",
       "      <td>1.659350e-02</td>\n",
       "      <td>-5.213911e-02</td>\n",
       "      <td>1.342146e-03</td>\n",
       "      <td>1.124383e-02</td>\n",
       "      <td>22.000000</td>\n",
       "      <td>0.000000</td>\n",
       "    </tr>\n",
       "    <tr>\n",
       "      <th>75%</th>\n",
       "      <td>139320.500000</td>\n",
       "      <td>1.315642e+00</td>\n",
       "      <td>8.037239e-01</td>\n",
       "      <td>1.027196e+00</td>\n",
       "      <td>7.433413e-01</td>\n",
       "      <td>6.119264e-01</td>\n",
       "      <td>3.985649e-01</td>\n",
       "      <td>5.704361e-01</td>\n",
       "      <td>3.273459e-01</td>\n",
       "      <td>5.971390e-01</td>\n",
       "      <td>...</td>\n",
       "      <td>1.863772e-01</td>\n",
       "      <td>5.285536e-01</td>\n",
       "      <td>1.476421e-01</td>\n",
       "      <td>4.395266e-01</td>\n",
       "      <td>3.507156e-01</td>\n",
       "      <td>2.409522e-01</td>\n",
       "      <td>9.104512e-02</td>\n",
       "      <td>7.827995e-02</td>\n",
       "      <td>77.165000</td>\n",
       "      <td>0.000000</td>\n",
       "    </tr>\n",
       "    <tr>\n",
       "      <th>max</th>\n",
       "      <td>172792.000000</td>\n",
       "      <td>2.454930e+00</td>\n",
       "      <td>2.205773e+01</td>\n",
       "      <td>9.382558e+00</td>\n",
       "      <td>1.687534e+01</td>\n",
       "      <td>3.480167e+01</td>\n",
       "      <td>7.330163e+01</td>\n",
       "      <td>1.205895e+02</td>\n",
       "      <td>2.000721e+01</td>\n",
       "      <td>1.559499e+01</td>\n",
       "      <td>...</td>\n",
       "      <td>2.720284e+01</td>\n",
       "      <td>1.050309e+01</td>\n",
       "      <td>2.252841e+01</td>\n",
       "      <td>4.584549e+00</td>\n",
       "      <td>7.519589e+00</td>\n",
       "      <td>3.517346e+00</td>\n",
       "      <td>3.161220e+01</td>\n",
       "      <td>3.384781e+01</td>\n",
       "      <td>25691.160000</td>\n",
       "      <td>1.000000</td>\n",
       "    </tr>\n",
       "  </tbody>\n",
       "</table>\n",
       "<p>8 rows × 31 columns</p>\n",
       "</div>"
      ],
      "text/plain": [
       "                Time            V1            V2            V3            V4  \\\n",
       "count  284807.000000  2.848070e+05  2.848070e+05  2.848070e+05  2.848070e+05   \n",
       "mean    94813.859575  1.168375e-15  3.416908e-16 -1.379537e-15  2.074095e-15   \n",
       "std     47488.145955  1.958696e+00  1.651309e+00  1.516255e+00  1.415869e+00   \n",
       "min         0.000000 -5.640751e+01 -7.271573e+01 -4.832559e+01 -5.683171e+00   \n",
       "25%     54201.500000 -9.203734e-01 -5.985499e-01 -8.903648e-01 -8.486401e-01   \n",
       "50%     84692.000000  1.810880e-02  6.548556e-02  1.798463e-01 -1.984653e-02   \n",
       "75%    139320.500000  1.315642e+00  8.037239e-01  1.027196e+00  7.433413e-01   \n",
       "max    172792.000000  2.454930e+00  2.205773e+01  9.382558e+00  1.687534e+01   \n",
       "\n",
       "                 V5            V6            V7            V8            V9  \\\n",
       "count  2.848070e+05  2.848070e+05  2.848070e+05  2.848070e+05  2.848070e+05   \n",
       "mean   9.604066e-16  1.487313e-15 -5.556467e-16  1.213481e-16 -2.406331e-15   \n",
       "std    1.380247e+00  1.332271e+00  1.237094e+00  1.194353e+00  1.098632e+00   \n",
       "min   -1.137433e+02 -2.616051e+01 -4.355724e+01 -7.321672e+01 -1.343407e+01   \n",
       "25%   -6.915971e-01 -7.682956e-01 -5.540759e-01 -2.086297e-01 -6.430976e-01   \n",
       "50%   -5.433583e-02 -2.741871e-01  4.010308e-02  2.235804e-02 -5.142873e-02   \n",
       "75%    6.119264e-01  3.985649e-01  5.704361e-01  3.273459e-01  5.971390e-01   \n",
       "max    3.480167e+01  7.330163e+01  1.205895e+02  2.000721e+01  1.559499e+01   \n",
       "\n",
       "       ...           V21           V22           V23           V24  \\\n",
       "count  ...  2.848070e+05  2.848070e+05  2.848070e+05  2.848070e+05   \n",
       "mean   ...  1.654067e-16 -3.568593e-16  2.578648e-16  4.473266e-15   \n",
       "std    ...  7.345240e-01  7.257016e-01  6.244603e-01  6.056471e-01   \n",
       "min    ... -3.483038e+01 -1.093314e+01 -4.480774e+01 -2.836627e+00   \n",
       "25%    ... -2.283949e-01 -5.423504e-01 -1.618463e-01 -3.545861e-01   \n",
       "50%    ... -2.945017e-02  6.781943e-03 -1.119293e-02  4.097606e-02   \n",
       "75%    ...  1.863772e-01  5.285536e-01  1.476421e-01  4.395266e-01   \n",
       "max    ...  2.720284e+01  1.050309e+01  2.252841e+01  4.584549e+00   \n",
       "\n",
       "                V25           V26           V27           V28         Amount  \\\n",
       "count  2.848070e+05  2.848070e+05  2.848070e+05  2.848070e+05  284807.000000   \n",
       "mean   5.340915e-16  1.683437e-15 -3.660091e-16 -1.227390e-16      88.349619   \n",
       "std    5.212781e-01  4.822270e-01  4.036325e-01  3.300833e-01     250.120109   \n",
       "min   -1.029540e+01 -2.604551e+00 -2.256568e+01 -1.543008e+01       0.000000   \n",
       "25%   -3.171451e-01 -3.269839e-01 -7.083953e-02 -5.295979e-02       5.600000   \n",
       "50%    1.659350e-02 -5.213911e-02  1.342146e-03  1.124383e-02      22.000000   \n",
       "75%    3.507156e-01  2.409522e-01  9.104512e-02  7.827995e-02      77.165000   \n",
       "max    7.519589e+00  3.517346e+00  3.161220e+01  3.384781e+01   25691.160000   \n",
       "\n",
       "               Class  \n",
       "count  284807.000000  \n",
       "mean        0.001727  \n",
       "std         0.041527  \n",
       "min         0.000000  \n",
       "25%         0.000000  \n",
       "50%         0.000000  \n",
       "75%         0.000000  \n",
       "max         1.000000  \n",
       "\n",
       "[8 rows x 31 columns]"
      ]
     },
     "execution_count": 190,
     "metadata": {},
     "output_type": "execute_result"
    }
   ],
   "source": [
    "base.describe()"
   ]
  },
  {
   "cell_type": "markdown",
   "id": "9ddb6d50",
   "metadata": {},
   "source": [
    "- As colunas Time e Amount possuem um valor máximo muito alto, e fazendo os testes isso pode ser prejudicial para o modelo final. \n",
    "- Vou colocar os valores entre 0 e 1"
   ]
  },
  {
   "cell_type": "code",
   "execution_count": 191,
   "id": "793fa03a",
   "metadata": {},
   "outputs": [],
   "source": [
    "#Ajustando as colunas Time e Amount\n",
    "base.Time = base.Time / base.Time.max()\n",
    "base.Amount = base.Amount / base.Amount.max()"
   ]
  },
  {
   "cell_type": "markdown",
   "id": "2f037e09",
   "metadata": {},
   "source": [
    "#### Verificando a quantidade de transações que são fraude e que não são fraude na base"
   ]
  },
  {
   "cell_type": "code",
   "execution_count": 192,
   "id": "e2fba5ef",
   "metadata": {},
   "outputs": [
    {
     "data": {
      "text/plain": [
       "0    284315\n",
       "1       492\n",
       "Name: Class, dtype: int64"
      ]
     },
     "execution_count": 192,
     "metadata": {},
     "output_type": "execute_result"
    }
   ],
   "source": [
    "#Quantidade de transações fraude e não fraude\n",
    "base.Class.value_counts()"
   ]
  },
  {
   "cell_type": "code",
   "execution_count": 193,
   "id": "22256429",
   "metadata": {},
   "outputs": [
    {
     "data": {
      "image/png": "[encoded data removed]",
      "text/plain": [
       "<Figure size 640x480 with 1 Axes>"
      ]
     },
     "metadata": {},
     "output_type": "display_data"
    }
   ],
   "source": [
    "#Visuzalindo o percentual\n",
    "base.Class.value_counts().plot.pie(autopct='%.2f');"
   ]
  },
  {
   "cell_type": "markdown",
   "id": "6d6dfaa9",
   "metadata": {},
   "source": [
    "A base está desbalanceada, a maioria dos registros são transações não fraudulendas. Vou utilizar o undersampling para equilibrar a base"
   ]
  },
  {
   "cell_type": "code",
   "execution_count": 194,
   "id": "7750cb15",
   "metadata": {},
   "outputs": [],
   "source": [
    "#Definindo o X e y da base\n",
    "X = base.drop('Class', axis=1)\n",
    "y = base.Class"
   ]
  },
  {
   "cell_type": "code",
   "execution_count": 195,
   "id": "f6085b2d",
   "metadata": {},
   "outputs": [],
   "source": [
    "#Separando a base em treino e teste\n",
    "X_train, X_test, y_train, y_test = train_test_split(X, y, test_size=0.33, random_state=42,stratify=y)"
   ]
  },
  {
   "cell_type": "markdown",
   "id": "bed633e2",
   "metadata": {},
   "source": [
    "- Aqui utilizei o RandomUnderSampler, o ClusterCentroids e o NearMiss para balancear a base e testar os modelos de Árvore de Decisão, Regressão Logística, KNN, SVM e RandomForest para ver quais modelos se encaixariam melhor para cada situação e melhorá-los (Eliminei os modelos SVM e RandomForest pois nos testes eles não saíram como bons modelos para o projeto)\n",
    "- Utilizei a matriz de confusão, a precisão e recall para metrificar"
   ]
  },
  {
   "cell_type": "markdown",
   "id": "0567a1c1",
   "metadata": {},
   "source": [
    "- Para o caso de valores até 50 mil: Queria um recall alto, mas que não tenha uma precisão muito baixa. O modelo deve classificar corretamente o maior número de transações que são de fato fraude, mas sem classificar uma taxa muito alta de fraudes onde as transações não são fraudes\n",
    "- Para o caso de valores maiores que 50 mil: Recall mais alto possível, mesmo que com uma precisão baixa. O modelo deve classificar o máximo de casos possíveis que são fraude como fraude, mesmo que isso implique em um número maior de transações que não são fraude sendo classificadas como fraude"
   ]
  },
  {
   "cell_type": "markdown",
   "id": "7d95f31e",
   "metadata": {},
   "source": [
    "### Utilizando o RandomUnderSampler"
   ]
  },
  {
   "cell_type": "code",
   "execution_count": 196,
   "id": "f400c1ce",
   "metadata": {},
   "outputs": [],
   "source": [
    "rus = RandomUnderSampler(random_state=42)\n",
    "X_res_ru, y_res_ru = rus.fit_resample(X_train, y_train)"
   ]
  },
  {
   "cell_type": "code",
   "execution_count": 197,
   "id": "a310dc4c",
   "metadata": {},
   "outputs": [
    {
     "data": {
      "text/plain": [
       "0    330\n",
       "1    330\n",
       "Name: Class, dtype: int64"
      ]
     },
     "execution_count": 197,
     "metadata": {},
     "output_type": "execute_result"
    }
   ],
   "source": [
    "#Contando quantos valores existem em cada classe\n",
    "y_res_u.value_counts()"
   ]
  },
  {
   "cell_type": "markdown",
   "id": "b7e119d2",
   "metadata": {},
   "source": [
    "#### Regressão Logística"
   ]
  },
  {
   "cell_type": "code",
   "execution_count": 198,
   "id": "2ea72feb",
   "metadata": {},
   "outputs": [
    {
     "data": {
      "text/plain": [
       "array([[89875,  3950],\n",
       "       [   15,   147]], dtype=int64)"
      ]
     },
     "execution_count": 198,
     "metadata": {},
     "output_type": "execute_result"
    }
   ],
   "source": [
    "clf_rl_ru = LogisticRegression(random_state=0).fit(X_res_ru, y_res_ru)\n",
    "y_pred_rl_ru = clf_rl_ru.predict(X_test)\n",
    "confusion_matrix(y_test, y_pred_rl_ru)"
   ]
  },
  {
   "cell_type": "code",
   "execution_count": 199,
   "id": "a4b8a032",
   "metadata": {},
   "outputs": [
    {
     "data": {
      "text/plain": [
       "3.587991213082743"
      ]
     },
     "execution_count": 199,
     "metadata": {},
     "output_type": "execute_result"
    }
   ],
   "source": [
    "precision_score(y_test, y_pred_rl_ru)*100"
   ]
  },
  {
   "cell_type": "code",
   "execution_count": 200,
   "id": "9938d88a",
   "metadata": {},
   "outputs": [
    {
     "data": {
      "text/plain": [
       "90.74074074074075"
      ]
     },
     "execution_count": 200,
     "metadata": {},
     "output_type": "execute_result"
    }
   ],
   "source": [
    "recall_score(y_test, y_pred_rl_ru)*100"
   ]
  },
  {
   "cell_type": "markdown",
   "id": "bf75a0ff",
   "metadata": {},
   "source": [
    "- Temos um modelo classificando:\n",
    "    - 15 transações fraudulentas como não fraudulentas\n",
    "    - 147 transações fraudulentas como fraudulentas\n",
    "    - 3950 transações não fraudulentas como fraudulentas\n",
    "- É um modelo que pode corresponder ao caso 1"
   ]
  },
  {
   "cell_type": "markdown",
   "id": "a1357ac4",
   "metadata": {},
   "source": [
    "#### KNN"
   ]
  },
  {
   "cell_type": "code",
   "execution_count": 201,
   "id": "9437b602",
   "metadata": {},
   "outputs": [
    {
     "data": {
      "text/plain": [
       "array([[91136,  2689],\n",
       "       [   15,   147]], dtype=int64)"
      ]
     },
     "execution_count": 201,
     "metadata": {},
     "output_type": "execute_result"
    }
   ],
   "source": [
    "clf_knn_ru = KNeighborsClassifier(n_neighbors=3).fit(X_res_ru, y_res_ru)\n",
    "\n",
    "y_pred_knn_ru = clf_knn_ru.predict(X_test)\n",
    "\n",
    "confusion_matrix(y_test, y_pred_knn_ru)"
   ]
  },
  {
   "cell_type": "code",
   "execution_count": 202,
   "id": "af81949b",
   "metadata": {},
   "outputs": [
    {
     "data": {
      "text/plain": [
       "5.1833568406205925"
      ]
     },
     "execution_count": 202,
     "metadata": {},
     "output_type": "execute_result"
    }
   ],
   "source": [
    "precision_score(y_test, y_pred_knn_ru)*100"
   ]
  },
  {
   "cell_type": "code",
   "execution_count": 203,
   "id": "744d6d67",
   "metadata": {},
   "outputs": [
    {
     "data": {
      "text/plain": [
       "90.74074074074075"
      ]
     },
     "execution_count": 203,
     "metadata": {},
     "output_type": "execute_result"
    }
   ],
   "source": [
    "recall_score(y_test, y_pred_knn_ru)*100"
   ]
  },
  {
   "cell_type": "markdown",
   "id": "b0dc52ca",
   "metadata": {},
   "source": [
    "- Temos um modelo classificando:\n",
    "    - 15 transações fraudulentas como não fraudulentas\n",
    "    - 147 transações fraudulentas como fraudulentas\n",
    "    - 2689 transações não fraudulentas como fraudulentas\n",
    "- É um modelo que pode corresponder ao caso 1"
   ]
  },
  {
   "cell_type": "markdown",
   "id": "c70b23cb",
   "metadata": {},
   "source": [
    "### Utilizando ClusterCentroids"
   ]
  },
  {
   "cell_type": "code",
   "execution_count": 204,
   "id": "253693a3",
   "metadata": {},
   "outputs": [],
   "source": [
    "cc = ClusterCentroids(random_state=42)\n",
    "X_res_cc, y_res_cc = cc.fit_resample(X_train, y_train)"
   ]
  },
  {
   "cell_type": "markdown",
   "id": "c164af61",
   "metadata": {},
   "source": [
    "#### Árvore de Decisão"
   ]
  },
  {
   "cell_type": "code",
   "execution_count": 205,
   "id": "dfb8c23e",
   "metadata": {},
   "outputs": [
    {
     "data": {
      "text/plain": [
       "array([[47171, 46654],\n",
       "       [   11,   151]], dtype=int64)"
      ]
     },
     "execution_count": 205,
     "metadata": {},
     "output_type": "execute_result"
    }
   ],
   "source": [
    "clf_ad_cc = tree.DecisionTreeClassifier(random_state=42)\n",
    "clf_ad_cc = clf_ad_cc.fit(X_res_cc, y_res_cc)\n",
    "\n",
    "y_pred_ad_cc = clf_ad_cc.predict(X_test)\n",
    "\n",
    "confusion_matrix(y_test, y_pred_ad_cc)"
   ]
  },
  {
   "cell_type": "code",
   "execution_count": 206,
   "id": "a9183e90",
   "metadata": {},
   "outputs": [
    {
     "data": {
      "text/plain": [
       "0.3226151052238009"
      ]
     },
     "execution_count": 206,
     "metadata": {},
     "output_type": "execute_result"
    }
   ],
   "source": [
    "precision_score(y_test, y_pred_ad_cc)*100"
   ]
  },
  {
   "cell_type": "code",
   "execution_count": 207,
   "id": "5d1848aa",
   "metadata": {},
   "outputs": [
    {
     "data": {
      "text/plain": [
       "93.20987654320987"
      ]
     },
     "execution_count": 207,
     "metadata": {},
     "output_type": "execute_result"
    }
   ],
   "source": [
    "recall_score(y_test, y_pred_ad_cc)*100"
   ]
  },
  {
   "cell_type": "markdown",
   "id": "be72a9ba",
   "metadata": {},
   "source": [
    "- Temos um modelo classificando:\n",
    "    - 11 transações fraudulentas como não fraudulentas\n",
    "    - 151 transações fraudulentas como fraudulentas\n",
    "    - 46654 transações não fraudulentas como fraudulentas\n",
    "- É um modelo que classifica um pouco melhor as fraudes do que os acima, mas com o custo das transações não fraudes classificadas como fraudes muito mais alto. Pode vir a fazer sentido para o caso 2."
   ]
  },
  {
   "cell_type": "markdown",
   "id": "d0f31172",
   "metadata": {},
   "source": [
    "### Utilizando NearMiss"
   ]
  },
  {
   "cell_type": "code",
   "execution_count": 208,
   "id": "26f7deee",
   "metadata": {},
   "outputs": [],
   "source": [
    "nm = NearMiss()\n",
    "X_res_nm, y_res_nm = nm.fit_resample(X_train, y_train)"
   ]
  },
  {
   "cell_type": "markdown",
   "id": "cfff108b",
   "metadata": {},
   "source": [
    "#### Árvore de Decisão"
   ]
  },
  {
   "cell_type": "code",
   "execution_count": 209,
   "id": "12ab2647",
   "metadata": {},
   "outputs": [
    {
     "data": {
      "text/plain": [
       "array([[ 4948, 88877],\n",
       "       [    5,   157]], dtype=int64)"
      ]
     },
     "execution_count": 209,
     "metadata": {},
     "output_type": "execute_result"
    }
   ],
   "source": [
    "clf_ad_nm = tree.DecisionTreeClassifier(random_state=42)\n",
    "clf_ad_nm = clf_ad_nm.fit(X_res_nm, y_res_nm)\n",
    "\n",
    "y_pred_ad_nm = clf_ad_nm.predict(X_test)\n",
    "\n",
    "confusion_matrix(y_test, y_pred_ad_nm)"
   ]
  },
  {
   "cell_type": "code",
   "execution_count": 210,
   "id": "f418d768",
   "metadata": {},
   "outputs": [
    {
     "data": {
      "text/plain": [
       "96.91358024691358"
      ]
     },
     "execution_count": 210,
     "metadata": {},
     "output_type": "execute_result"
    }
   ],
   "source": [
    "recall_score(y_test, y_pred_ad_nm)*100"
   ]
  },
  {
   "cell_type": "code",
   "execution_count": 211,
   "id": "af4dd8f6",
   "metadata": {},
   "outputs": [
    {
     "data": {
      "text/plain": [
       "0.17633712963586945"
      ]
     },
     "execution_count": 211,
     "metadata": {},
     "output_type": "execute_result"
    }
   ],
   "source": [
    "precision_score(y_test, y_pred_ad_nm)*100"
   ]
  },
  {
   "cell_type": "markdown",
   "id": "b9124e45",
   "metadata": {},
   "source": [
    "- Temos um modelo classificando:\n",
    "    - 5 transações fraudulentas como não fraudulentas\n",
    "    - 157 transações fraudulentas como fraudulentas\n",
    "    - 88877 transações não fraudulentas como fraudulentas\n",
    "- É um modelo que classifica um bem melhor as fraudes corretamente, com o custo das transações não fraudes classificadas como fraudes muito mais alto. Também é um modelo que faz sentido para o caso 2"
   ]
  },
  {
   "cell_type": "markdown",
   "id": "a5145d27",
   "metadata": {},
   "source": [
    "#### KNN"
   ]
  },
  {
   "cell_type": "code",
   "execution_count": 212,
   "id": "165bb04f",
   "metadata": {},
   "outputs": [
    {
     "data": {
      "text/plain": [
       "array([[71778, 22047],\n",
       "       [   12,   150]], dtype=int64)"
      ]
     },
     "execution_count": 212,
     "metadata": {},
     "output_type": "execute_result"
    }
   ],
   "source": [
    "clf_knn_nm = KNeighborsClassifier(n_neighbors=3).fit(X_res_nm, y_res_nm)\n",
    "\n",
    "y_pred_knn_nm = clf_knn_nm.predict(X_test)\n",
    "\n",
    "confusion_matrix(y_test, y_pred_knn_nm)"
   ]
  },
  {
   "cell_type": "code",
   "execution_count": 213,
   "id": "aa182f70",
   "metadata": {},
   "outputs": [
    {
     "data": {
      "text/plain": [
       "92.5925925925926"
      ]
     },
     "execution_count": 213,
     "metadata": {},
     "output_type": "execute_result"
    }
   ],
   "source": [
    "recall_score(y_test, y_pred_knn_nm)*100"
   ]
  },
  {
   "cell_type": "code",
   "execution_count": 214,
   "id": "563acf43",
   "metadata": {},
   "outputs": [
    {
     "data": {
      "text/plain": [
       "0.6757669955399379"
      ]
     },
     "execution_count": 214,
     "metadata": {},
     "output_type": "execute_result"
    }
   ],
   "source": [
    "precision_score(y_test, y_pred_knn_nm)*100"
   ]
  },
  {
   "cell_type": "markdown",
   "id": "138266cf",
   "metadata": {},
   "source": [
    "- Temos um modelo classificando:\n",
    "    - 5 transações fraudulentas como não fraudulentas\n",
    "    - 157 transações fraudulentas como fraudulentas\n",
    "    - 88877 transações não fraudulentas como fraudulentas\n",
    "- É um modelo que classifica um bem melhor as fraudes corretamente, com o custo das transações não fraudes classificadas como fraudes muito mais alto. Também é um modelo que faz sentido para o caso 2"
   ]
  },
  {
   "cell_type": "markdown",
   "id": "af958b94",
   "metadata": {},
   "source": [
    "#### Os casos acima são os que encontrei que faziam mais sentido para o negócio\n",
    "#### Tendo em mente os casos pedidos pelo negócio, temos que:\n",
    "- Para o caso 1: modelo KNN com a base balanceada utilizando o RandomUnderSampler, pois é o que traz o maior número de fraudes identificadas e menor número de casos de fraudes não classificadas mantendo o equilíbrio das transações classificadas como fraudes quando não eram.\n",
    "- Para o caso 2: modelo de árvore de decisão com a base balanceada utilzando o NearMiss. É o que traz o menor número possível de transações fraudulentas classificadas como não fraudulentas, mas sempre lembrar que também traz um número alto de transações não fraudulentas classificadas como fraudulentas. Acredito que as transações os clientes desse negócio de valores muito altos já esperam receber algo confirmando a compra e também não seriam tantas compras assim que rodariam com esse modelo."
   ]
  }
 ],
 "metadata": {
  "kernelspec": {
   "display_name": "Python 3 (ipykernel)",
   "language": "python",
   "name": "python3"
  },
  "language_info": {
   "codemirror_mode": {
    "name": "ipython",
    "version": 3
   },
   "file_extension": ".py",
   "mimetype": "text/x-python",
   "name": "python",
   "nbconvert_exporter": "python",
   "pygments_lexer": "ipython3",
   "version": "3.10.9"
  }
 },
 "nbformat": 4,
 "nbformat_minor": 5
}
